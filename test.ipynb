{
 "cells": [
  {
   "cell_type": "code",
   "execution_count": 1,
   "metadata": {
    "collapsed": false
   },
   "outputs": [],
   "source": [
    "from monahan import *"
   ]
  },
  {
   "cell_type": "code",
   "execution_count": 2,
   "metadata": {
    "collapsed": false
   },
   "outputs": [],
   "source": [
    "solver = MonahanSolve(t0 = 0, tmax = 10)"
   ]
  },
  {
   "cell_type": "code",
   "execution_count": null,
   "metadata": {
    "collapsed": false
   },
   "outputs": [
    {
     "name": "stdout",
     "output_type": "stream",
     "text": [
      "Total alpha enumerated:  2 , time:  0.00\n",
      "Total alpha after Eagle:  1 , time:  0.00\n",
      "Total alpha after LP:  1 , time:  0.00\n",
      "Completed time step  9 \n",
      "\n",
      "Total alpha enumerated:  2 , time:  0.00\n",
      "Total alpha after Eagle:  2 , time:  0.00\n",
      "Total alpha after LP:  2 , time:  0.10\n",
      "Completed time step  8 \n",
      "\n",
      "Total alpha enumerated:  8 , time:  0.00\n",
      "Total alpha after Eagle:  5 , time:  0.00\n",
      "Total alpha after LP:  5 , time:  0.08\n",
      "Completed time step  7 \n",
      "\n",
      "Total alpha enumerated:  50 , time:  0.00\n",
      "Total alpha after Eagle:  12 , time:  0.01\n",
      "Total alpha after LP:  12 , time:  0.28\n",
      "Completed time step  6 \n",
      "\n",
      "Total alpha enumerated:  288 , time:  0.02\n",
      "Total alpha after Eagle:  28 , time:  0.11\n",
      "Total alpha after LP:  28 , time:  0.69\n",
      "Completed time step  5 \n",
      "\n",
      "Total alpha enumerated:  1568 , time:  0.18\n",
      "Total alpha after Eagle:  69 , time:  1.16\n",
      "Total alpha after LP:  69 , time:  2.58\n",
      "Completed time step  4 \n",
      "\n",
      "Total alpha enumerated:  9522 , time:  0.53\n",
      "Total alpha after Eagle:  181 , time:  18.45\n",
      "Total alpha after LP:  181 , time:  15.24\n",
      "Completed time step  3 \n",
      "\n",
      "Total alpha enumerated:  65522 , time:  3.22\n",
      "Total alpha after Eagle:  447 , time:  302.52\n",
      "Total alpha after LP:  447 , time:  85.26\n",
      "Completed time step  2 \n",
      "\n",
      "Total alpha enumerated:  399618 , time:  19.89\n"
     ]
    }
   ],
   "source": [
    "%%time\n",
    "solver.solve()"
   ]
  },
  {
   "cell_type": "code",
   "execution_count": null,
   "metadata": {
    "collapsed": true
   },
   "outputs": [],
   "source": [
    "format"
   ]
  }
 ],
 "metadata": {
  "kernelspec": {
   "display_name": "Python 2",
   "language": "python",
   "name": "python2"
  },
  "language_info": {
   "codemirror_mode": {
    "name": "ipython",
    "version": 2
   },
   "file_extension": ".py",
   "mimetype": "text/x-python",
   "name": "python",
   "nbconvert_exporter": "python",
   "pygments_lexer": "ipython2",
   "version": "2.7.12"
  }
 },
 "nbformat": 4,
 "nbformat_minor": 0
}
