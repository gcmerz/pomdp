{
 "cells": [
  {
   "cell_type": "markdown",
   "metadata": {},
   "source": [
    "# POMDPs for Personalized Mammography Screening \n",
    "\n",
    "Alexander Goldberg, Lydia Goldberg, and Gabriela Merz "
   ]
  },
  {
   "cell_type": "markdown",
   "metadata": {},
   "source": [
    "## 1. Pre-generated Alpha Vectors"
   ]
  },
  {
   "cell_type": "markdown",
   "metadata": {},
   "source": [
    "We have pre-generated all of the alpha vectors needed to solve the POMDP for you. If you would like to re-generate these alpha vectors (**warning: takes on the order of hours even with a commercial grade Linear Program Solver**), proceed to section 4. If you would like to use our pre-generated alpha vectors to play around with our results, continue in this section. "
   ]
  },
  {
   "cell_type": "markdown",
   "metadata": {},
   "source": [
    "Make sure you have run \n",
    "\n",
    "    pip install -r requirements.txt \n",
    "    \n",
    "before attempting to use this notebook."
   ]
  },
  {
   "cell_type": "code",
   "execution_count": 1,
   "metadata": {
    "collapsed": false,
    "scrolled": true
   },
   "outputs": [],
   "source": [
    "from monahan import MonahanSolve\n",
    "from model import CancerPOMDP\n",
    "import pandas as pd\n",
    "import matplotlib.pyplot as plt\n",
    "import seaborn as sns\n",
    "from matplotlib.colors import ListedColormap\n",
    "import warnings\n",
    "warnings.filterwarnings(\"ignore\", message=\"elementwise comparison failed; returning scalar instead\")\n",
    "%matplotlib inline"
   ]
  },
  {
   "cell_type": "markdown",
   "metadata": {},
   "source": [
    "We have pre-generated the alpha vectors for you for 20, 40, and 80 timesteps, corresponding to a patient living to ages 50, 60, and 80, respectively. Please choose the alpha vectors you would like to use in the cell below, which is defaulted to 80 timesteps."
   ]
  },
  {
   "cell_type": "code",
   "execution_count": 2,
   "metadata": {
    "collapsed": true,
    "scrolled": true
   },
   "outputs": [],
   "source": [
    "NUM_VECTORS = 80"
   ]
  },
  {
   "cell_type": "markdown",
   "metadata": {},
   "source": [
    "Here, we initialize the cancerPOMDP and read in the appropriate alpha vectors. "
   ]
  },
  {
   "cell_type": "code",
   "execution_count": 3,
   "metadata": {
    "collapsed": false,
    "scrolled": true
   },
   "outputs": [],
   "source": [
    "cancerPOMDP = MonahanSolve(tmax = NUM_VECTORS)"
   ]
  },
  {
   "cell_type": "code",
   "execution_count": 4,
   "metadata": {
    "collapsed": false,
    "scrolled": true
   },
   "outputs": [],
   "source": [
    "cancerPOMDP.readAlpha('alpha/Simple/alpha' + str(NUM_VECTORS) + '.txt')"
   ]
  },
  {
   "cell_type": "code",
   "execution_count": 5,
   "metadata": {
    "collapsed": true,
    "scrolled": true
   },
   "outputs": [],
   "source": [
    "MAMMOGRAM_DICT = {0: 'WAIT', 1: 'GET A MAMMOGRAM'}"
   ]
  },
  {
   "cell_type": "markdown",
   "metadata": {},
   "source": [
    "Now, we can experiment with different initial ages and different belief states! We can call \"cancerPOMDP.chooseAction(beliefstate, time)\" to see whether or not we should get a mammogram based on our initial probabilities."
   ]
  },
  {
   "cell_type": "code",
   "execution_count": 6,
   "metadata": {
    "collapsed": true,
    "scrolled": true
   },
   "outputs": [],
   "source": [
    "# list of initial beliefs\n",
    "# 0th index: probability you're healthy \n",
    "# first index: probability you have in-situ cancer \n",
    "# second index: probability you have invasive cancer \n",
    "# feel free to make these numbers up to test if our results are intuitive \n",
    "INITIAL_PROBS = [1, 0, 0]\n",
    "AGE = 40"
   ]
  },
  {
   "cell_type": "code",
   "execution_count": 7,
   "metadata": {
    "collapsed": false,
    "scrolled": true
   },
   "outputs": [
    {
     "name": "stdout",
     "output_type": "stream",
     "text": [
      "WAIT\n"
     ]
    }
   ],
   "source": [
    "print MAMMOGRAM_DICT[cancerPOMDP.chooseAction(INITIAL_PROBS, (AGE - 40) * 2)]"
   ]
  },
  {
   "cell_type": "markdown",
   "metadata": {},
   "source": [
    "Good! So if your probability is 1 of being healthy, you opt to wait. Let's delve even futher into the data."
   ]
  },
  {
   "cell_type": "markdown",
   "metadata": {},
   "source": [
    "## 2. Examining the Data"
   ]
  },
  {
   "cell_type": "markdown",
   "metadata": {},
   "source": [
    "We want to be able to see what kind of decisions we make under different conditions, \n",
    "i.e. different initial probabilities of cancers and health, and different ages. \n",
    "We create the function \"genDF\" to generate a dataframe of the decisions we make under\n",
    "different probabilities, which we will then use to plot and visualize our results. Feel free to play around with how we generate the probabilities for the dataframe: right now, we look at discrete increments of .05, because it is easy to visualize on our heatmap below and doesn't take too long to generate. "
   ]
  },
  {
   "cell_type": "code",
   "execution_count": 8,
   "metadata": {
    "collapsed": false,
    "scrolled": true
   },
   "outputs": [],
   "source": [
    "def genDF(pomdp, step = 0.05, high = 50): \n",
    "    '''\n",
    "        function genDF\n",
    "        \n",
    "        params: pomdp MonohanSolve class \n",
    "        \n",
    "        returns: a dataframe with columns \n",
    "        'Age': Age at which each decision was made, incremented by 5 years\n",
    "            from 40 - max-age\n",
    "        'Healthy Prior': Prior probability of health \n",
    "        'Insitu Prior' : Prior probability of in-situ cancer \n",
    "        'Inviasive Prior': Prior probability of invasive cancer\n",
    "        'Decision' : 0 or 1, 0 to wait, 1 to get a Mammogram\n",
    "    '''\n",
    "    time, insitu, invasive, healthy, decisions = [], [], [], [], []\n",
    "    for t in range(0, NUM_VECTORS + 1, 10): \n",
    "        for insitu_prob in range(high): \n",
    "            insitu_prob = step * insitu_prob\n",
    "            for invasive_prob in range(high): \n",
    "                invasive_prob = step * invasive_prob\n",
    "                if insitu_prob + invasive_prob > 1: \n",
    "                    continue \n",
    "                else: \n",
    "                    healthy_prob = 1 - insitu_prob - invasive_prob \n",
    "                    decision = pomdp.chooseAction([healthy_prob, insitu_prob, invasive_prob], t)\n",
    "                    time.append((t * .5) + 40)\n",
    "                    insitu.append(insitu_prob)\n",
    "                    invasive.append(invasive_prob)\n",
    "                    healthy.append(healthy_prob)\n",
    "                    decisions.append(decision)\n",
    "    return pd.DataFrame({'Age': time, 'Healthy Prior': healthy, 'In situ Prior': insitu, 'Invasive Prior': \n",
    "                             invasive, 'Decision': decisions})                    "
   ]
  },
  {
   "cell_type": "markdown",
   "metadata": {},
   "source": [
    "Now, we generate a table of all the information!"
   ]
  },
  {
   "cell_type": "code",
   "execution_count": 9,
   "metadata": {
    "collapsed": false,
    "scrolled": true
   },
   "outputs": [],
   "source": [
    "df = genDF(cancerPOMDP)"
   ]
  },
  {
   "cell_type": "markdown",
   "metadata": {},
   "source": [
    "You can feel free to play with the information like so: "
   ]
  },
  {
   "cell_type": "code",
   "execution_count": 10,
   "metadata": {
    "collapsed": false,
    "scrolled": true
   },
   "outputs": [
    {
     "data": {
      "text/html": [
       "<div>\n",
       "<table border=\"1\" class=\"dataframe\">\n",
       "  <thead>\n",
       "    <tr style=\"text-align: right;\">\n",
       "      <th></th>\n",
       "      <th>Age</th>\n",
       "      <th>Decision</th>\n",
       "      <th>Healthy Prior</th>\n",
       "      <th>In situ Prior</th>\n",
       "      <th>Invasive Prior</th>\n",
       "    </tr>\n",
       "  </thead>\n",
       "  <tbody>\n",
       "    <tr>\n",
       "      <th>0</th>\n",
       "      <td>40</td>\n",
       "      <td>0</td>\n",
       "      <td>1.00</td>\n",
       "      <td>0</td>\n",
       "      <td>0.00</td>\n",
       "    </tr>\n",
       "    <tr>\n",
       "      <th>1</th>\n",
       "      <td>40</td>\n",
       "      <td>1</td>\n",
       "      <td>0.95</td>\n",
       "      <td>0</td>\n",
       "      <td>0.05</td>\n",
       "    </tr>\n",
       "    <tr>\n",
       "      <th>2</th>\n",
       "      <td>40</td>\n",
       "      <td>1</td>\n",
       "      <td>0.90</td>\n",
       "      <td>0</td>\n",
       "      <td>0.10</td>\n",
       "    </tr>\n",
       "    <tr>\n",
       "      <th>3</th>\n",
       "      <td>40</td>\n",
       "      <td>1</td>\n",
       "      <td>0.85</td>\n",
       "      <td>0</td>\n",
       "      <td>0.15</td>\n",
       "    </tr>\n",
       "    <tr>\n",
       "      <th>4</th>\n",
       "      <td>40</td>\n",
       "      <td>1</td>\n",
       "      <td>0.80</td>\n",
       "      <td>0</td>\n",
       "      <td>0.20</td>\n",
       "    </tr>\n",
       "  </tbody>\n",
       "</table>\n",
       "</div>"
      ],
      "text/plain": [
       "   Age  Decision  Healthy Prior  In situ Prior  Invasive Prior\n",
       "0   40         0           1.00              0            0.00\n",
       "1   40         1           0.95              0            0.05\n",
       "2   40         1           0.90              0            0.10\n",
       "3   40         1           0.85              0            0.15\n",
       "4   40         1           0.80              0            0.20"
      ]
     },
     "execution_count": 10,
     "metadata": {},
     "output_type": "execute_result"
    }
   ],
   "source": [
    "# look at the first five entries of the dataframe \n",
    "df.head()"
   ]
  },
  {
   "cell_type": "code",
   "execution_count": 11,
   "metadata": {
    "collapsed": false,
    "scrolled": true
   },
   "outputs": [
    {
     "data": {
      "text/html": [
       "<div>\n",
       "<table border=\"1\" class=\"dataframe\">\n",
       "  <thead>\n",
       "    <tr style=\"text-align: right;\">\n",
       "      <th></th>\n",
       "      <th>Age</th>\n",
       "      <th>Decision</th>\n",
       "      <th>Healthy Prior</th>\n",
       "      <th>In situ Prior</th>\n",
       "      <th>Invasive Prior</th>\n",
       "    </tr>\n",
       "  </thead>\n",
       "  <tbody>\n",
       "    <tr>\n",
       "      <th>0</th>\n",
       "      <td>40</td>\n",
       "      <td>0</td>\n",
       "      <td>1.00</td>\n",
       "      <td>0.00</td>\n",
       "      <td>0.00</td>\n",
       "    </tr>\n",
       "    <tr>\n",
       "      <th>231</th>\n",
       "      <td>45</td>\n",
       "      <td>0</td>\n",
       "      <td>1.00</td>\n",
       "      <td>0.00</td>\n",
       "      <td>0.00</td>\n",
       "    </tr>\n",
       "    <tr>\n",
       "      <th>462</th>\n",
       "      <td>50</td>\n",
       "      <td>0</td>\n",
       "      <td>1.00</td>\n",
       "      <td>0.00</td>\n",
       "      <td>0.00</td>\n",
       "    </tr>\n",
       "    <tr>\n",
       "      <th>693</th>\n",
       "      <td>55</td>\n",
       "      <td>0</td>\n",
       "      <td>1.00</td>\n",
       "      <td>0.00</td>\n",
       "      <td>0.00</td>\n",
       "    </tr>\n",
       "    <tr>\n",
       "      <th>924</th>\n",
       "      <td>60</td>\n",
       "      <td>0</td>\n",
       "      <td>1.00</td>\n",
       "      <td>0.00</td>\n",
       "      <td>0.00</td>\n",
       "    </tr>\n",
       "    <tr>\n",
       "      <th>1155</th>\n",
       "      <td>65</td>\n",
       "      <td>0</td>\n",
       "      <td>1.00</td>\n",
       "      <td>0.00</td>\n",
       "      <td>0.00</td>\n",
       "    </tr>\n",
       "    <tr>\n",
       "      <th>1386</th>\n",
       "      <td>70</td>\n",
       "      <td>0</td>\n",
       "      <td>1.00</td>\n",
       "      <td>0.00</td>\n",
       "      <td>0.00</td>\n",
       "    </tr>\n",
       "    <tr>\n",
       "      <th>1407</th>\n",
       "      <td>70</td>\n",
       "      <td>0</td>\n",
       "      <td>0.95</td>\n",
       "      <td>0.05</td>\n",
       "      <td>0.00</td>\n",
       "    </tr>\n",
       "    <tr>\n",
       "      <th>1617</th>\n",
       "      <td>75</td>\n",
       "      <td>0</td>\n",
       "      <td>1.00</td>\n",
       "      <td>0.00</td>\n",
       "      <td>0.00</td>\n",
       "    </tr>\n",
       "    <tr>\n",
       "      <th>1618</th>\n",
       "      <td>75</td>\n",
       "      <td>0</td>\n",
       "      <td>0.95</td>\n",
       "      <td>0.00</td>\n",
       "      <td>0.05</td>\n",
       "    </tr>\n",
       "    <tr>\n",
       "      <th>1638</th>\n",
       "      <td>75</td>\n",
       "      <td>0</td>\n",
       "      <td>0.95</td>\n",
       "      <td>0.05</td>\n",
       "      <td>0.00</td>\n",
       "    </tr>\n",
       "    <tr>\n",
       "      <th>1658</th>\n",
       "      <td>75</td>\n",
       "      <td>0</td>\n",
       "      <td>0.90</td>\n",
       "      <td>0.10</td>\n",
       "      <td>0.00</td>\n",
       "    </tr>\n",
       "  </tbody>\n",
       "</table>\n",
       "</div>"
      ],
      "text/plain": [
       "      Age  Decision  Healthy Prior  In situ Prior  Invasive Prior\n",
       "0      40         0           1.00           0.00            0.00\n",
       "231    45         0           1.00           0.00            0.00\n",
       "462    50         0           1.00           0.00            0.00\n",
       "693    55         0           1.00           0.00            0.00\n",
       "924    60         0           1.00           0.00            0.00\n",
       "1155   65         0           1.00           0.00            0.00\n",
       "1386   70         0           1.00           0.00            0.00\n",
       "1407   70         0           0.95           0.05            0.00\n",
       "1617   75         0           1.00           0.00            0.00\n",
       "1618   75         0           0.95           0.00            0.05\n",
       "1638   75         0           0.95           0.05            0.00\n",
       "1658   75         0           0.90           0.10            0.00"
      ]
     },
     "execution_count": 11,
     "metadata": {},
     "output_type": "execute_result"
    }
   ],
   "source": [
    "# look at every probability distribution where we opt to wait instead of\n",
    "# recieving a mammogram\n",
    "df[df['Decision'] == 0]"
   ]
  },
  {
   "cell_type": "markdown",
   "metadata": {},
   "source": [
    "The dataframe is good and all, but you probably want to see some actual ~visualizations~. \n",
    "In that case, we define a function \"plotAge\" which takes in the dataframe we generated\n",
    "and an age (from 40 - 75, incremented in 5's), and plots a heatmap. The x axis of the \n",
    "heatmap is your prior probability of in-situ cancer, and the y axis of your heatmap \n",
    "is your prior probability of invasive cancer. A square is <font color='red'>red</font> if you should opt to get\n",
    "a <font color='red'>mammogram</font> for those probabilities, and a square is <font color='blue'>blue</font> if you should opt to <font color='blue'>wait</font>\n",
    "instead of getting a mammogram. Note that we are not looking at probabilities in continuous space, but in discrete intervals of .005."
   ]
  },
  {
   "cell_type": "code",
   "execution_count": 12,
   "metadata": {
    "collapsed": false,
    "scrolled": true
   },
   "outputs": [],
   "source": [
    "df = genDF(cancerPOMDP, step = 0.005, high = 35)"
   ]
  },
  {
   "cell_type": "code",
   "execution_count": 13,
   "metadata": {
    "collapsed": true,
    "scrolled": true
   },
   "outputs": [],
   "source": [
    "def plotAge(df, age): \n",
    "    '''\n",
    "        function that plots a heatmap \n",
    "        of insitu prior vs. invasive prior\n",
    "        blue squares indicate you opt to wait, \n",
    "        red square indicate you should recieve \n",
    "        a mammogram\n",
    "    '''\n",
    "    new_df = df[df['Age'] == age]\n",
    "    new_df = new_df.pivot(\"Invasive Prior\", \"In situ Prior\", \"Decision\")\n",
    "    ax = sns.heatmap(new_df, cmap=ListedColormap(['blue', 'red']), alpha = .2, cbar = False,\n",
    "                     yticklabels=2, xticklabels=4)\n",
    "    ax.set_title('Mammogram Decisions for Age %s' % age)\n",
    "    ax.invert_yaxis()"
   ]
  },
  {
   "cell_type": "markdown",
   "metadata": {},
   "source": [
    "Let's plot the data for age 40!"
   ]
  },
  {
   "cell_type": "code",
   "execution_count": 14,
   "metadata": {
    "collapsed": false,
    "scrolled": true
   },
   "outputs": [
    {
     "data": {
      "image/png": "[encoded data removed]",
      "text/plain": [
       "<matplotlib.figure.Figure at 0x10a415e50>"
      ]
     },
     "metadata": {},
     "output_type": "display_data"
    }
   ],
   "source": [
    "plotAge(df, 40)"
   ]
  },
  {
   "cell_type": "markdown",
   "metadata": {},
   "source": [
    "So far, this is consistent with the results from the original paper. Let's see what happens when we up the age to 70: "
   ]
  },
  {
   "cell_type": "code",
   "execution_count": 15,
   "metadata": {
    "collapsed": false,
    "scrolled": true
   },
   "outputs": [
    {
     "data": {
      "image/png": "[encoded data removed]",
      "text/plain": [
       "<matplotlib.figure.Figure at 0x109d1d9d0>"
      ]
     },
     "metadata": {},
     "output_type": "display_data"
    }
   ],
   "source": [
    "plotAge(df, 70)"
   ]
  },
  {
   "cell_type": "markdown",
   "metadata": {},
   "source": [
    "And age 75..."
   ]
  },
  {
   "cell_type": "code",
   "execution_count": 16,
   "metadata": {
    "collapsed": false,
    "scrolled": true
   },
   "outputs": [
    {
     "data": {
      "image/png": "[encoded data removed]",
      "text/plain": [
       "<matplotlib.figure.Figure at 0x10af12210>"
      ]
     },
     "metadata": {},
     "output_type": "display_data"
    }
   ],
   "source": [
    "plotAge(df, 75)"
   ]
  },
  {
   "cell_type": "markdown",
   "metadata": {},
   "source": [
    "Good! This is exactly the behavior we would expect. As we get older, the risk associated with not getting a mammogram becomes less important than the cost of getting a mammogram (which, as a refresher, is measured in Quality-Adjusted Life Years or QALYs). So, we become more likely to wait instead of opting to recieve a mammogram. "
   ]
  },
  {
   "cell_type": "markdown",
   "metadata": {},
   "source": [
    "#### Patient Examples ####"
   ]
  },
  {
   "cell_type": "markdown",
   "metadata": {},
   "source": [
    "Let's explore some examples for two different patients! Ayer et. al explore the cases of two patients: a 40-year-old woman with a 0.1% chance of having in situ cancer and a 0.2% chance of having invasive cancer, and a 50-year-old women with a 0.6% chance of having in situ cancer and a 0.7%  chance of having invasive cancer.\n",
    "\n",
    "In the paper, the optimal policy for the first patient (aged 40) was to wait, and the optimal policy for the second patient (aged 50) was to get a mammogram. Although our underlying transition probabilities are slightly different, we get the same results:"
   ]
  },
  {
   "cell_type": "code",
   "execution_count": 17,
   "metadata": {
    "collapsed": false
   },
   "outputs": [
    {
     "name": "stdout",
     "output_type": "stream",
     "text": [
      "WAIT\n"
     ]
    }
   ],
   "source": [
    "PATIENT1 = [.997, .002, 0.001]\n",
    "AGE = 40\n",
    "decision = MAMMOGRAM_DICT[cancerPOMDP.chooseAction(PATIENT1, (AGE - 40) * 2)]\n",
    "print decision"
   ]
  },
  {
   "cell_type": "markdown",
   "metadata": {},
   "source": [
    "Our model tells the first patient to wait!"
   ]
  },
  {
   "cell_type": "markdown",
   "metadata": {},
   "source": [
    "Now let's investigate the results for the second patient, who is older and has a higher probability of cancer. "
   ]
  },
  {
   "cell_type": "code",
   "execution_count": 18,
   "metadata": {
    "collapsed": false
   },
   "outputs": [
    {
     "name": "stdout",
     "output_type": "stream",
     "text": [
      "GET A MAMMOGRAM\n"
     ]
    }
   ],
   "source": [
    "PATIENT2 = [.987, .006, 0.007]\n",
    "AGE = 50\n",
    "decision = MAMMOGRAM_DICT[cancerPOMDP.chooseAction(PATIENT2, (AGE - 40) * 2)]\n",
    "print decision"
   ]
  },
  {
   "cell_type": "markdown",
   "metadata": {},
   "source": [
    "Our model tells the second patient to get a mammogram! "
   ]
  },
  {
   "cell_type": "markdown",
   "metadata": {},
   "source": [
    "## 3. How Observations Change the Belief State"
   ]
  },
  {
   "cell_type": "markdown",
   "metadata": {},
   "source": [
    "Now that we have all this information, we want to verify that our belief state changes appropriately over time as a result of our actions. We'll first need to import some constants that make understanding our code a bit easier, and also write a function that prints our results nicely."
   ]
  },
  {
   "cell_type": "code",
   "execution_count": 19,
   "metadata": {
    "collapsed": true,
    "scrolled": true
   },
   "outputs": [],
   "source": [
    "from modelConstants import W, M, MNEG, MPOS, SDNEG, SDPOS"
   ]
  },
  {
   "cell_type": "code",
   "execution_count": 20,
   "metadata": {
    "collapsed": true,
    "scrolled": true
   },
   "outputs": [],
   "source": [
    "def printBelief(b): \n",
    "    beliefs = ['being healthy', 'having in situ cancer', 'having invasive cancer']\n",
    "    for prob, state in zip(b, beliefs): \n",
    "        print \"Patient has probability %s of %s\" % (prob, state)"
   ]
  },
  {
   "cell_type": "markdown",
   "metadata": {},
   "source": [
    "We initialize a few belief states to test with: "
   ]
  },
  {
   "cell_type": "code",
   "execution_count": 21,
   "metadata": {
    "collapsed": true,
    "scrolled": true
   },
   "outputs": [],
   "source": [
    "# patient is healthy with probability one \n",
    "HEALTHY = [1, 0, 0]\n",
    "# patient is relatively likely to have in-situ cancer \n",
    "SPLIT = [.8, .2, 0]"
   ]
  },
  {
   "cell_type": "markdown",
   "metadata": {},
   "source": [
    "As always, we first perform some sanity checks. If we believe our patient is healthy, and she recieves a negative mammogram, then she should continue to be healthy. Note that the first parameter in updateBeliefState is time, which we set to 0 to represent a woman at age 40."
   ]
  },
  {
   "cell_type": "code",
   "execution_count": 22,
   "metadata": {
    "collapsed": false,
    "scrolled": true
   },
   "outputs": [
    {
     "name": "stdout",
     "output_type": "stream",
     "text": [
      "Patient has probability 0.996987951807 of being healthy\n",
      "Patient has probability 0.00100401606426 of having in situ cancer\n",
      "Patient has probability 0.00200803212851 of having invasive cancer\n"
     ]
    }
   ],
   "source": [
    "printBelief(cancerPOMDP.updateBeliefState(0, HEALTHY, MNEG))"
   ]
  },
  {
   "cell_type": "markdown",
   "metadata": {},
   "source": [
    "Now that that's out of the way, let's look at how a negative  self-detection vs. a negative mammogram changes the underlying belief state when a patient believes that they are probably healthy, but have a fairly high chance of in situ cancer (note that 0.2 is a fairly high probability in the context of having cancer. As we can see from our earlier heatmaps, with this probability of in situ cancer we would decide to get a mammogram). "
   ]
  },
  {
   "cell_type": "code",
   "execution_count": 23,
   "metadata": {
    "collapsed": false,
    "scrolled": true
   },
   "outputs": [
    {
     "name": "stdout",
     "output_type": "stream",
     "text": [
      "For split probability of healthy and in-situ with a negative mammogram: \n",
      "\n",
      "Patient has probability 0.828725843064 of being healthy\n",
      "Patient has probability 0.0713250383488 of having in situ cancer\n",
      "Patient has probability 0.0999491185875 of having invasive cancer\n"
     ]
    }
   ],
   "source": [
    "print \"For split probability of healthy and in-situ with a negative mammogram: \\n\"\n",
    "printBelief(cancerPOMDP.updateBeliefState(0, SPLIT, MNEG))"
   ]
  },
  {
   "cell_type": "code",
   "execution_count": 24,
   "metadata": {
    "collapsed": false,
    "scrolled": true
   },
   "outputs": [
    {
     "name": "stdout",
     "output_type": "stream",
     "text": [
      "For split probability of healthy and in-situ with a negative self detection: \n",
      "\n",
      "Patient has probability 0.890513510352 of being healthy\n",
      "Patient has probability 0.0455023979413 of having in situ cancer\n",
      "Patient has probability 0.0639840917066 of having invasive cancer\n"
     ]
    }
   ],
   "source": [
    "print \"For split probability of healthy and in-situ with a negative self detection: \\n\"\n",
    "printBelief(cancerPOMDP.updateBeliefState(0, SPLIT, SDNEG))"
   ]
  },
  {
   "cell_type": "markdown",
   "metadata": {},
   "source": [
    "Note that this is consistent with our original probabilities. We can also compare the changes in initial belief state if we were to have a positive self-detection:"
   ]
  },
  {
   "cell_type": "code",
   "execution_count": 25,
   "metadata": {
    "collapsed": false,
    "scrolled": true
   },
   "outputs": [
    {
     "name": "stdout",
     "output_type": "stream",
     "text": [
      "Belief state of a patient after recieving self-detection:\n",
      "\n",
      "Patient has probability 0.362541073384 of being healthy\n",
      "Patient has probability 0.266155531216 of having in situ cancer\n",
      "Patient has probability 0.3713033954 of having invasive cancer\n"
     ]
    }
   ],
   "source": [
    "print \"Belief state of a patient after recieving self-detection:\\n\"\n",
    "printBelief(cancerPOMDP.updateBeliefState(0, SPLIT, SDPOS))"
   ]
  },
  {
   "cell_type": "markdown",
   "metadata": {},
   "source": [
    "The positive self-detection means that our patient is much more likely to have cancer than if there were a negative self-detection!"
   ]
  },
  {
   "cell_type": "markdown",
   "metadata": {},
   "source": [
    "Now, we explore the effect of a positive mammogram: "
   ]
  },
  {
   "cell_type": "code",
   "execution_count": 26,
   "metadata": {
    "collapsed": false
   },
   "outputs": [
    {
     "name": "stdout",
     "output_type": "stream",
     "text": [
      "Belief state of a patient after recieving a positive mammogram:\n",
      "\n",
      "Patient has probability 0.996987951807 of being healthy\n",
      "Patient has probability 0.00100401606426 of having in situ cancer\n",
      "Patient has probability 0.00200803212851 of having invasive cancer\n"
     ]
    }
   ],
   "source": [
    "print \"Belief state of a patient after recieving a positive mammogram:\\n\"\n",
    "printBelief(cancerPOMDP.updateBeliefState(0, SPLIT, MPOS))"
   ]
  },
  {
   "cell_type": "markdown",
   "metadata": {},
   "source": [
    "We note that this result at first seems counterintuitive: why would a positive mammogram cause a patient's probability \n",
    "of being healthy to go up to almost 100%? This is because if we observe a positive mammogram and the patient is still in our model, this means that the patient has recieved a *false positive* mammogram. If the mammogram was *actually* positive, then the patient would have been diagnosed with cancer and immediately entered the appropriate treatment. Thus, if the patient is still in our model, her probabilities of being healthy and having any form of cancer are reset to be the original population probabilities. "
   ]
  },
  {
   "cell_type": "markdown",
   "metadata": {},
   "source": [
    "Overall, our results are intuitive and consistent! Feel free to experiment with different initial ages and belief states."
   ]
  },
  {
   "cell_type": "markdown",
   "metadata": {},
   "source": [
    "## 4. Re-solving the POMDP"
   ]
  },
  {
   "cell_type": "markdown",
   "metadata": {},
   "source": [
    "If you would like to re-solve the POMDP, and have installed everything in requirements.txt, you should be able to run the following command to solve the POMDP (find the alpha vectors). In our write-up, we describe the various LP solvers we used to optimize. Since CPLEX is a commercial solver and cvxopt requires extra steps for installation, you will want to use pulp here (which is slower, but works). Note that the time taken to run the code using pulp will be much greater than it was in our own implementation using CPLEX, so you can only solve the POMDP for a very short time horizon in a reasonable amount of time. \n",
    "\n",
    "\n",
    "This command will generate the alpha vectors, and you will see a series of output including: \n",
    "\n",
    "1. Which LP solver you're using\n",
    "2. The total number of alpha vectors at each timestep \n",
    "3. The total number of alpha vectors after Eagle's reduction \n",
    "4. The total number of alpha vectors after solving the Linear Program\n",
    "5. Which time step you're on \n",
    "6. The amount of time it took for each step to run\n",
    "\n",
    "If you would like to change the default number of timesteps, whether or not you write to a file, etc., please feel free to look through the code in model.py and monohan.py and modify settings as you prefer."
   ]
  },
  {
   "cell_type": "code",
   "execution_count": null,
   "metadata": {
    "collapsed": false,
    "scrolled": true
   },
   "outputs": [
    {
     "name": "stdout",
     "output_type": "stream",
     "text": [
      "Using LP Solver pulp \n",
      "\n",
      "Total alpha after enumeration: 2, time: 0.00\n",
      "Total alpha after Eagle: 1, time: 0.00\n",
      "Total alpha after LP: 1, time: 0.00\n",
      "\tLP construct time:  0\n",
      "\tLP solve time:  0\n",
      "Completed time step  19 \n",
      "\n",
      "Total alpha after enumeration: 2, time: 0.00\n",
      "Total alpha after Eagle: 2, time: 0.00\n",
      "Total alpha after LP: 2, time: 0.10\n",
      "\tLP construct time:  0.00423312187195\n",
      "\tLP solve time:  0.0946931838989\n",
      "Completed time step  18 \n",
      "\n",
      "Total alpha after enumeration: 6, time: 0.00\n",
      "Total alpha after Eagle: 5, time: 0.00\n",
      "Total alpha after LP: 4, time: 0.11\n",
      "\tLP construct time:  0.0203671455383\n",
      "\tLP solve time:  0.0925052165985\n",
      "Completed time step  17 \n",
      "\n",
      "Total alpha after enumeration: 20, time: 0.00\n",
      "Total alpha after Eagle: 11, time: 0.00\n",
      "Total alpha after LP: 8, time: 0.15\n",
      "\tLP construct time:  0.0292980670929\n",
      "\tLP solve time:  0.118495702744\n",
      "Completed time step  16 \n",
      "\n",
      "Total alpha after enumeration: 72, time: 0.00\n",
      "Total alpha after Eagle: 32, time: 0.00\n",
      "Total alpha after LP: 13, time: 0.75\n",
      "\tLP construct time:  0.308441162109\n",
      "\tLP solve time:  0.433079957962\n",
      "Completed time step  15 \n",
      "\n",
      "Total alpha after enumeration: 182, time: 0.01\n",
      "Total alpha after Eagle: 70, time: 0.00\n",
      "Total alpha after LP: 27, time: 1.87\n",
      "\tLP construct time:  0.907836198807\n",
      "\tLP solve time:  0.956354141235\n",
      "Completed time step  14 \n",
      "\n",
      "Total alpha after enumeration: 756, time: 0.03\n",
      "Total alpha after Eagle: 142, time: 0.01\n",
      "Total alpha after LP: 45, time: 5.63\n",
      "\tLP construct time:  3.49520659447\n",
      "\tLP solve time:  2.11081051826\n",
      "Completed time step  13 \n",
      "\n",
      "Total alpha after enumeration: 2070, time: 0.08\n",
      "Total alpha after Eagle: 288, time: 0.05\n",
      "Total alpha after LP: 64, time: 18.22\n",
      "\tLP construct time:  12.8633112907\n",
      "\tLP solve time:  5.29831314087\n",
      "Completed time step  12 \n",
      "\n",
      "Total alpha after enumeration: 4160, time: 0.13\n",
      "Total alpha after Eagle: 432, time: 0.15\n",
      "Total alpha after LP: 84, time: 38.83\n",
      "\tLP construct time:  28.4056897163\n",
      "\tLP solve time:  10.3024842739\n",
      "Completed time step  11 \n",
      "\n",
      "Total alpha after enumeration: 7140, time: 0.24\n",
      "Total alpha after Eagle: 686, time: 0.37\n",
      "Total alpha after LP: 108, time: 100.02\n",
      "\tLP construct time:  75.8679897785\n",
      "\tLP solve time:  23.8548419476\n",
      "Completed time step  10 \n",
      "\n",
      "Total alpha after enumeration: 11772, time: 0.42\n",
      "Total alpha after Eagle: 975, time: 0.88\n"
     ]
    }
   ],
   "source": [
    "newPOMDP = MonahanSolve(tmax = 20).solve()"
   ]
  }
 ],
 "metadata": {
  "anaconda-cloud": {},
  "kernelspec": {
   "display_name": "Python [Root]",
   "language": "python",
   "name": "Python [Root]"
  },
  "language_info": {
   "codemirror_mode": {
    "name": "ipython",
    "version": 2
   },
   "file_extension": ".py",
   "mimetype": "text/x-python",
   "name": "python",
   "nbconvert_exporter": "python",
   "pygments_lexer": "ipython2",
   "version": "2.7.12"
  }
 },
 "nbformat": 4,
 "nbformat_minor": 0
}
