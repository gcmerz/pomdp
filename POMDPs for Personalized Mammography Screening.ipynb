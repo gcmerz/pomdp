{
 "cells": [
  {
   "cell_type": "markdown",
   "metadata": {},
   "source": [
    "# POMDPs for Personalized Mammography Screening \n",
    "\n",
    "Alexander Goldberg, Lydia Goldberg, and Gabriela Merz "
   ]
  },
  {
   "cell_type": "markdown",
   "metadata": {},
   "source": [
    "## 1. Pre-generated Alpha Vectors"
   ]
  },
  {
   "cell_type": "markdown",
   "metadata": {},
   "source": [
    "We have pre-generated all of the alpha vectors needed to solve the POMDP for you. If you would like to re-generate these alpha vectors (**warning: takes on the order of hours even with a commercial grade Linear Program Solver**), proceed to section 4. If you would like to use our pre-generated alpha vectors to play around with our results, continue in this section. "
   ]
  },
  {
   "cell_type": "markdown",
   "metadata": {},
   "source": [
    "Make sure you have run \n",
    "\n",
    "    pip install -r requirements.txt \n",
    "    \n",
    "before attempting to use this notebook."
   ]
  },
  {
   "cell_type": "code",
   "execution_count": 1,
   "metadata": {
    "collapsed": false,
    "scrolled": true
   },
   "outputs": [
    {
     "name": "stderr",
     "output_type": "stream",
     "text": [
      "/Users/gmerz/Desktop/Harvard/Years/Junior/Fall/CS182/FinalProject/pomdp/pomdp/lib/python2.7/site-packages/matplotlib/font_manager.py:273: UserWarning: Matplotlib is building the font cache using fc-list. This may take a moment.\n",
      "  warnings.warn('Matplotlib is building the font cache using fc-list. This may take a moment.')\n"
     ]
    }
   ],
   "source": [
    "from monahan import MonahanSolve\n",
    "from model import CancerPOMDP\n",
    "import pandas as pd\n",
    "import matplotlib.pyplot as plt\n",
    "import seaborn as sns\n",
    "from matplotlib.colors import ListedColormap\n",
    "import warnings\n",
    "warnings.filterwarnings(\"ignore\", message=\"elementwise comparison failed; returning scalar instead\")\n",
    "%matplotlib inline"
   ]
  },
  {
   "cell_type": "markdown",
   "metadata": {},
   "source": [
    "We have pre-generated the alpha vectors for you for 20, 40, and 80 timesteps, corresponding to a patient living to ages 50, 60, and 80, respectively. Please choose the alpha vectors you would like to use in the cell below, which is defaulted to 80 timesteps."
   ]
  },
  {
   "cell_type": "code",
   "execution_count": 2,
   "metadata": {
    "collapsed": true,
    "scrolled": true
   },
   "outputs": [],
   "source": [
    "NUM_VECTORS = 80"
   ]
  },
  {
   "cell_type": "markdown",
   "metadata": {},
   "source": [
    "Here, we initialize the cancerPOMDP and read in the appropriate alpha vectors. "
   ]
  },
  {
   "cell_type": "code",
   "execution_count": 3,
   "metadata": {
    "collapsed": false,
    "scrolled": true
   },
   "outputs": [],
   "source": [
    "cancerPOMDP = MonahanSolve(tmax = NUM_VECTORS)"
   ]
  },
  {
   "cell_type": "code",
   "execution_count": 4,
   "metadata": {
    "collapsed": false,
    "scrolled": true
   },
   "outputs": [],
   "source": [
    "cancerPOMDP.readAlpha('alpha/Simple/alpha' + str(NUM_VECTORS) + '.txt')"
   ]
  },
  {
   "cell_type": "code",
   "execution_count": 5,
   "metadata": {
    "collapsed": true,
    "scrolled": true
   },
   "outputs": [],
   "source": [
    "MAMMOGRAM_DICT = {0: 'WAIT', 1: 'GET A MAMMOGRAM'}"
   ]
  },
  {
   "cell_type": "markdown",
   "metadata": {},
   "source": [
    "Now, we can experiment with different initial ages and different belief states! We can call \"cancerPOMDP.chooseAction(beliefstate, time)\" to see whether or not we should get a mammogram based on our initial probabilities."
   ]
  },
  {
   "cell_type": "code",
   "execution_count": 6,
   "metadata": {
    "collapsed": true,
    "scrolled": true
   },
   "outputs": [],
   "source": [
    "# list of initial beliefs\n",
    "# 0th index: probability you're healthy \n",
    "# first index: probability you have in-situ cancer \n",
    "# second index: probability you have invasive cancer \n",
    "# feel free to make these numbers up to test if our results are intuitive \n",
    "INITIAL_PROBS = [1, 0, 0]\n",
    "AGE = 40"
   ]
  },
  {
   "cell_type": "code",
   "execution_count": 7,
   "metadata": {
    "collapsed": false,
    "scrolled": true
   },
   "outputs": [
    {
     "name": "stdout",
     "output_type": "stream",
     "text": [
      "WAIT\n"
     ]
    }
   ],
   "source": [
    "print MAMMOGRAM_DICT[cancerPOMDP.chooseAction(INITIAL_PROBS, (AGE - 40) * 2)]"
   ]
  },
  {
   "cell_type": "markdown",
   "metadata": {},
   "source": [
    "Good! So if your probability is 1 of being healthy, you opt to wait. Let's delve even futher into the data."
   ]
  },
  {
   "cell_type": "markdown",
   "metadata": {},
   "source": [
    "## 2. Examining the Data"
   ]
  },
  {
   "cell_type": "markdown",
   "metadata": {},
   "source": [
    "We want to be able to see what kind of decisions we make under different conditions, \n",
    "i.e. different initial probabilities of cancers and health, and different ages. \n",
    "We create the function \"genDF\" to generate a dataframe of the decisions we make under\n",
    "different probabilities, which we will then use to plot and visualize our results. Feel free to play around with how we generate the probabilities for the dataframe: right now, we look at discrete increments of .05, because it is easy to visualize on our heatmap below and doesn't take too long to generate. "
   ]
  },
  {
   "cell_type": "code",
   "execution_count": 8,
   "metadata": {
    "collapsed": false,
    "scrolled": true
   },
   "outputs": [],
   "source": [
    "def genDF(pomdp, step = 0.05, high = 50): \n",
    "    '''\n",
    "        function genDF\n",
    "        \n",
    "        params: pomdp MonohanSolve class \n",
    "        \n",
    "        returns: a dataframe with columns \n",
    "        'Age': Age at which each decision was made, incremented by 5 years\n",
    "            from 40 - max-age\n",
    "        'Healthy Prior': Prior probability of health \n",
    "        'Insitu Prior' : Prior probability of in-situ cancer \n",
    "        'Inviasive Prior': Prior probability of invasive cancer\n",
    "        'Decision' : 0 or 1, 0 to wait, 1 to get a Mammogram\n",
    "    '''\n",
    "    time, insitu, invasive, healthy, decisions = [], [], [], [], []\n",
    "    for t in range(0, NUM_VECTORS + 1, 10): \n",
    "        for insitu_prob in range(high): \n",
    "            insitu_prob = step * insitu_prob\n",
    "            for invasive_prob in range(high): \n",
    "                invasive_prob = step * invasive_prob\n",
    "                if insitu_prob + invasive_prob > 1: \n",
    "                    continue \n",
    "                else: \n",
    "                    healthy_prob = 1 - insitu_prob - invasive_prob \n",
    "                    decision = pomdp.chooseAction([healthy_prob, insitu_prob, invasive_prob], t)\n",
    "                    time.append((t * .5) + 40)\n",
    "                    insitu.append(insitu_prob)\n",
    "                    invasive.append(invasive_prob)\n",
    "                    healthy.append(healthy_prob)\n",
    "                    decisions.append(decision)\n",
    "    return pd.DataFrame({'Age': time, 'Healthy Prior': healthy, 'In situ Prior': insitu, 'Invasive Prior': \n",
    "                             invasive, 'Decision': decisions})                    "
   ]
  },
  {
   "cell_type": "markdown",
   "metadata": {},
   "source": [
    "Now, we generate a table of all the information!"
   ]
  },
  {
   "cell_type": "code",
   "execution_count": 9,
   "metadata": {
    "collapsed": false,
    "scrolled": true
   },
   "outputs": [],
   "source": [
    "df = genDF(cancerPOMDP)"
   ]
  },
  {
   "cell_type": "markdown",
   "metadata": {},
   "source": [
    "You can feel free to play with the information like so: "
   ]
  },
  {
   "cell_type": "code",
   "execution_count": 10,
   "metadata": {
    "collapsed": false,
    "scrolled": true
   },
   "outputs": [
    {
     "data": {
      "text/html": [
       "<div>\n",
       "<table border=\"1\" class=\"dataframe\">\n",
       "  <thead>\n",
       "    <tr style=\"text-align: right;\">\n",
       "      <th></th>\n",
       "      <th>Age</th>\n",
       "      <th>Decision</th>\n",
       "      <th>Healthy Prior</th>\n",
       "      <th>In situ Prior</th>\n",
       "      <th>Invasive Prior</th>\n",
       "    </tr>\n",
       "  </thead>\n",
       "  <tbody>\n",
       "    <tr>\n",
       "      <th>0</th>\n",
       "      <td>40.0</td>\n",
       "      <td>0</td>\n",
       "      <td>1.00</td>\n",
       "      <td>0.0</td>\n",
       "      <td>0.00</td>\n",
       "    </tr>\n",
       "    <tr>\n",
       "      <th>1</th>\n",
       "      <td>40.0</td>\n",
       "      <td>1</td>\n",
       "      <td>0.95</td>\n",
       "      <td>0.0</td>\n",
       "      <td>0.05</td>\n",
       "    </tr>\n",
       "    <tr>\n",
       "      <th>2</th>\n",
       "      <td>40.0</td>\n",
       "      <td>1</td>\n",
       "      <td>0.90</td>\n",
       "      <td>0.0</td>\n",
       "      <td>0.10</td>\n",
       "    </tr>\n",
       "    <tr>\n",
       "      <th>3</th>\n",
       "      <td>40.0</td>\n",
       "      <td>1</td>\n",
       "      <td>0.85</td>\n",
       "      <td>0.0</td>\n",
       "      <td>0.15</td>\n",
       "    </tr>\n",
       "    <tr>\n",
       "      <th>4</th>\n",
       "      <td>40.0</td>\n",
       "      <td>1</td>\n",
       "      <td>0.80</td>\n",
       "      <td>0.0</td>\n",
       "      <td>0.20</td>\n",
       "    </tr>\n",
       "  </tbody>\n",
       "</table>\n",
       "</div>"
      ],
      "text/plain": [
       "    Age  Decision  Healthy Prior  In situ Prior  Invasive Prior\n",
       "0  40.0         0           1.00            0.0            0.00\n",
       "1  40.0         1           0.95            0.0            0.05\n",
       "2  40.0         1           0.90            0.0            0.10\n",
       "3  40.0         1           0.85            0.0            0.15\n",
       "4  40.0         1           0.80            0.0            0.20"
      ]
     },
     "execution_count": 10,
     "metadata": {},
     "output_type": "execute_result"
    }
   ],
   "source": [
    "# look at the first five entries of the dataframe \n",
    "df.head()"
   ]
  },
  {
   "cell_type": "code",
   "execution_count": 11,
   "metadata": {
    "collapsed": false,
    "scrolled": true
   },
   "outputs": [
    {
     "data": {
      "text/html": [
       "<div>\n",
       "<table border=\"1\" class=\"dataframe\">\n",
       "  <thead>\n",
       "    <tr style=\"text-align: right;\">\n",
       "      <th></th>\n",
       "      <th>Age</th>\n",
       "      <th>Decision</th>\n",
       "      <th>Healthy Prior</th>\n",
       "      <th>In situ Prior</th>\n",
       "      <th>Invasive Prior</th>\n",
       "    </tr>\n",
       "  </thead>\n",
       "  <tbody>\n",
       "    <tr>\n",
       "      <th>0</th>\n",
       "      <td>40.0</td>\n",
       "      <td>0</td>\n",
       "      <td>1.00</td>\n",
       "      <td>0.00</td>\n",
       "      <td>0.00</td>\n",
       "    </tr>\n",
       "    <tr>\n",
       "      <th>231</th>\n",
       "      <td>45.0</td>\n",
       "      <td>0</td>\n",
       "      <td>1.00</td>\n",
       "      <td>0.00</td>\n",
       "      <td>0.00</td>\n",
       "    </tr>\n",
       "    <tr>\n",
       "      <th>462</th>\n",
       "      <td>50.0</td>\n",
       "      <td>0</td>\n",
       "      <td>1.00</td>\n",
       "      <td>0.00</td>\n",
       "      <td>0.00</td>\n",
       "    </tr>\n",
       "    <tr>\n",
       "      <th>693</th>\n",
       "      <td>55.0</td>\n",
       "      <td>0</td>\n",
       "      <td>1.00</td>\n",
       "      <td>0.00</td>\n",
       "      <td>0.00</td>\n",
       "    </tr>\n",
       "    <tr>\n",
       "      <th>924</th>\n",
       "      <td>60.0</td>\n",
       "      <td>0</td>\n",
       "      <td>1.00</td>\n",
       "      <td>0.00</td>\n",
       "      <td>0.00</td>\n",
       "    </tr>\n",
       "    <tr>\n",
       "      <th>1155</th>\n",
       "      <td>65.0</td>\n",
       "      <td>0</td>\n",
       "      <td>1.00</td>\n",
       "      <td>0.00</td>\n",
       "      <td>0.00</td>\n",
       "    </tr>\n",
       "    <tr>\n",
       "      <th>1386</th>\n",
       "      <td>70.0</td>\n",
       "      <td>0</td>\n",
       "      <td>1.00</td>\n",
       "      <td>0.00</td>\n",
       "      <td>0.00</td>\n",
       "    </tr>\n",
       "    <tr>\n",
       "      <th>1407</th>\n",
       "      <td>70.0</td>\n",
       "      <td>0</td>\n",
       "      <td>0.95</td>\n",
       "      <td>0.05</td>\n",
       "      <td>0.00</td>\n",
       "    </tr>\n",
       "    <tr>\n",
       "      <th>1617</th>\n",
       "      <td>75.0</td>\n",
       "      <td>0</td>\n",
       "      <td>1.00</td>\n",
       "      <td>0.00</td>\n",
       "      <td>0.00</td>\n",
       "    </tr>\n",
       "    <tr>\n",
       "      <th>1618</th>\n",
       "      <td>75.0</td>\n",
       "      <td>0</td>\n",
       "      <td>0.95</td>\n",
       "      <td>0.00</td>\n",
       "      <td>0.05</td>\n",
       "    </tr>\n",
       "    <tr>\n",
       "      <th>1638</th>\n",
       "      <td>75.0</td>\n",
       "      <td>0</td>\n",
       "      <td>0.95</td>\n",
       "      <td>0.05</td>\n",
       "      <td>0.00</td>\n",
       "    </tr>\n",
       "    <tr>\n",
       "      <th>1658</th>\n",
       "      <td>75.0</td>\n",
       "      <td>0</td>\n",
       "      <td>0.90</td>\n",
       "      <td>0.10</td>\n",
       "      <td>0.00</td>\n",
       "    </tr>\n",
       "  </tbody>\n",
       "</table>\n",
       "</div>"
      ],
      "text/plain": [
       "       Age  Decision  Healthy Prior  In situ Prior  Invasive Prior\n",
       "0     40.0         0           1.00           0.00            0.00\n",
       "231   45.0         0           1.00           0.00            0.00\n",
       "462   50.0         0           1.00           0.00            0.00\n",
       "693   55.0         0           1.00           0.00            0.00\n",
       "924   60.0         0           1.00           0.00            0.00\n",
       "1155  65.0         0           1.00           0.00            0.00\n",
       "1386  70.0         0           1.00           0.00            0.00\n",
       "1407  70.0         0           0.95           0.05            0.00\n",
       "1617  75.0         0           1.00           0.00            0.00\n",
       "1618  75.0         0           0.95           0.00            0.05\n",
       "1638  75.0         0           0.95           0.05            0.00\n",
       "1658  75.0         0           0.90           0.10            0.00"
      ]
     },
     "execution_count": 11,
     "metadata": {},
     "output_type": "execute_result"
    }
   ],
   "source": [
    "# look at every probability distribution where we opt to wait instead of\n",
    "# recieving a mammogram\n",
    "df[df['Decision'] == 0]"
   ]
  },
  {
   "cell_type": "markdown",
   "metadata": {},
   "source": [
    "The dataframe is good and all, but you probably want to see some actual ~visualizations~. \n",
    "In that case, we define a function \"plotAge\" which takes in the dataframe we generated\n",
    "and an age (from 40 - 75, incremented in 5's), and plots a heatmap. The x axis of the \n",
    "heatmap is your prior probability of in-situ cancer, and the y axis of your heatmap \n",
    "is your prior probability of invasive cancer. A square is <font color='red'>red</font> if you should opt to get\n",
    "a <font color='red'>mammogram</font> for those probabilities, and a square is <font color='blue'>blue</font> if you should opt to <font color='blue'>wait</font>\n",
    "instead of getting a mammogram. Note that we are not looking at probabilities in continuous space, but in discrete intervals of .005."
   ]
  },
  {
   "cell_type": "code",
   "execution_count": 12,
   "metadata": {
    "collapsed": false,
    "scrolled": true
   },
   "outputs": [],
   "source": [
    "df = genDF(cancerPOMDP, step = 0.005, high = 35)"
   ]
  },
  {
   "cell_type": "code",
   "execution_count": 13,
   "metadata": {
    "collapsed": true,
    "scrolled": true
   },
   "outputs": [],
   "source": [
    "def plotAge(df, age): \n",
    "    '''\n",
    "        function that plots a heatmap \n",
    "        of insitu prior vs. invasive prior\n",
    "        blue squares indicate you opt to wait, \n",
    "        red square indicate you should recieve \n",
    "        a mammogram\n",
    "    '''\n",
    "    new_df = df[df['Age'] == age]\n",
    "    new_df = new_df.pivot(\"Invasive Prior\", \"In situ Prior\", \"Decision\")\n",
    "    ax = sns.heatmap(new_df, cmap=ListedColormap(['blue', 'red']), alpha = .2, cbar = False,\n",
    "                     yticklabels=2, xticklabels=4)\n",
    "    ax.set_title('Mammogram Decisions for Age %s' % age)\n",
    "    ax.invert_yaxis()"
   ]
  },
  {
   "cell_type": "markdown",
   "metadata": {},
   "source": [
    "Let's plot the data for age 40!"
   ]
  },
  {
   "cell_type": "code",
   "execution_count": 14,
   "metadata": {
    "collapsed": false,
    "scrolled": true
   },
   "outputs": [
    {
     "data": {
      "image/png": "[encoded data removed]",
      "text/plain": [
       "<matplotlib.figure.Figure at 0x111f199d0>"
      ]
     },
     "metadata": {},
     "output_type": "display_data"
    }
   ],
   "source": [
    "plotAge(df, 40)"
   ]
  },
  {
   "cell_type": "markdown",
   "metadata": {},
   "source": [
    "So far, this is consistent with the results from the original paper. Let's see what happens when we up the age to 70: "
   ]
  },
  {
   "cell_type": "code",
   "execution_count": 15,
   "metadata": {
    "collapsed": false,
    "scrolled": true
   },
   "outputs": [
    {
     "data": {
      "image/png": "[encoded data removed]",
      "text/plain": [
       "<matplotlib.figure.Figure at 0x112096ad0>"
      ]
     },
     "metadata": {},
     "output_type": "display_data"
    }
   ],
   "source": [
    "plotAge(df, 70)"
   ]
  },
  {
   "cell_type": "markdown",
   "metadata": {},
   "source": [
    "And age 75..."
   ]
  },
  {
   "cell_type": "code",
   "execution_count": 16,
   "metadata": {
    "collapsed": false,
    "scrolled": true
   },
   "outputs": [
    {
     "data": {
      "image/png": "[encoded data removed]",
      "text/plain": [
       "<matplotlib.figure.Figure at 0x112ff60d0>"
      ]
     },
     "metadata": {},
     "output_type": "display_data"
    }
   ],
   "source": [
    "plotAge(df, 75)"
   ]
  },
  {
   "cell_type": "markdown",
   "metadata": {},
   "source": [
    "Good! This is exactly the behavior we would expect. As we get older, the risk associated with not getting a mammogram becomes less important than the cost of getting a mammogram (which, as a refresher, is measured in Quality-Adjusted Life Years or QALYs). So, we become more likely to wait instead of opting to recieve a mammogram. "
   ]
  },
  {
   "cell_type": "markdown",
   "metadata": {},
   "source": [
    "#### Patient Examples ####"
   ]
  },
  {
   "cell_type": "markdown",
   "metadata": {},
   "source": [
    "Let's explore some examples for two different patients! In the original paper by Ayer et. al, they explore examples of two patients: One with initial belief state [.997, .002, .001], and another with initial belief state [.987, .006, .007], aged 40 and 50 respectively. \n",
    "\n",
    "In the paper, the optimal policy for the first patient (aged 40) was to wait, and the optimal policy for the second patient (aged 50) was to get a mammogram. Although our underlying transition probabilities are slightly different from that o"
   ]
  },
  {
   "cell_type": "code",
   "execution_count": 17,
   "metadata": {
    "collapsed": false
   },
   "outputs": [
    {
     "name": "stdout",
     "output_type": "stream",
     "text": [
      "WAIT\n"
     ]
    }
   ],
   "source": [
    "PATIENT1 = [.997, .002, 0.001]\n",
    "AGE = 40\n",
    "decision = MAMMOGRAM_DICT[cancerPOMDP.chooseAction(PATIENT1, (AGE - 40) * 2)]\n",
    "print decision"
   ]
  },
  {
   "cell_type": "markdown",
   "metadata": {},
   "source": [
    "Our model tells her to wait!"
   ]
  },
  {
   "cell_type": "markdown",
   "metadata": {},
   "source": [
    "Now let's investigate the results for a different patient, aged 50. This patient has a 7/1000 chance of invasive cancer. Our model tells her to get a mammogram! "
   ]
  },
  {
   "cell_type": "code",
   "execution_count": 18,
   "metadata": {
    "collapsed": false
   },
   "outputs": [
    {
     "name": "stdout",
     "output_type": "stream",
     "text": [
      "GET A MAMMOGRAM\n"
     ]
    }
   ],
   "source": [
    "PATIENT2 = [.987, .006, 0.007]\n",
    "AGE = 50\n",
    "decision = MAMMOGRAM_DICT[cancerPOMDP.chooseAction(PATIENT2, (AGE - 40) * 2)]\n",
    "print decision"
   ]
  },
  {
   "cell_type": "markdown",
   "metadata": {},
   "source": [
    "## 3. How Observations Change the Belief State"
   ]
  },
  {
   "cell_type": "markdown",
   "metadata": {},
   "source": [
    "Now that we have all this information, we want to verify that our belief state changes appropriately over time as a result of our actions. We'll first need to import some constants that make understanding our code a bit easier, and also write a function that prints our results nicely."
   ]
  },
  {
   "cell_type": "code",
   "execution_count": 19,
   "metadata": {
    "collapsed": true,
    "scrolled": true
   },
   "outputs": [],
   "source": [
    "from modelConstants import W, M, MNEG, MPOS, SDNEG, SDPOS"
   ]
  },
  {
   "cell_type": "code",
   "execution_count": 20,
   "metadata": {
    "collapsed": true,
    "scrolled": true
   },
   "outputs": [],
   "source": [
    "def printBelief(b): \n",
    "    beliefs = ['being healthy', 'having in situ cancer', 'having invasive cancer']\n",
    "    for prob, state in zip(b, beliefs): \n",
    "        print \"Patient has probability %s of %s\" % (prob, state)"
   ]
  },
  {
   "cell_type": "markdown",
   "metadata": {},
   "source": [
    "We initialize a few belief states to test with: "
   ]
  },
  {
   "cell_type": "code",
   "execution_count": 21,
   "metadata": {
    "collapsed": true,
    "scrolled": true
   },
   "outputs": [],
   "source": [
    "# patient is healthy with probability one \n",
    "HEALTHY = [1, 0, 0]\n",
    "# patient is relatively likely to have in-situ cancer \n",
    "SPLIT = [.8, .2, 0]"
   ]
  },
  {
   "cell_type": "markdown",
   "metadata": {},
   "source": [
    "As always, we first perform some sanity checks. If we believe our patient is healthy, and she recieves a negative mammogram, then she should continue to be healthy. Note that the first parameter in updateBeliefState is time, which we set to 0 to represent a woman at age 40."
   ]
  },
  {
   "cell_type": "code",
   "execution_count": 22,
   "metadata": {
    "collapsed": false,
    "scrolled": true
   },
   "outputs": [
    {
     "name": "stdout",
     "output_type": "stream",
     "text": [
      "Patient has probability 0.996987951807 of being healthy\n",
      "Patient has probability 0.00100401606426 of having in situ cancer\n",
      "Patient has probability 0.00200803212851 of having invasive cancer\n"
     ]
    }
   ],
   "source": [
    "printBelief(cancerPOMDP.updateBeliefState(0, HEALTHY, MNEG))"
   ]
  },
  {
   "cell_type": "markdown",
   "metadata": {},
   "source": [
    "Now that that's out of the way, let's look at how a negative  self-detection vs. a negative mammogram changes the underlying belief state when a patient believes that they are probably healthy, but have a fairly high chance of in situ cancer (note that 0.2 is a fairly high probability in the context of having cancer. As we can see from our earlier heatmaps, with this probability of in situ cancer we would decide to get a mammogram). "
   ]
  },
  {
   "cell_type": "code",
   "execution_count": 23,
   "metadata": {
    "collapsed": false,
    "scrolled": true
   },
   "outputs": [
    {
     "name": "stdout",
     "output_type": "stream",
     "text": [
      "For split probability of healthy and in-situ with a negative mammogram: \n",
      "\n",
      "Patient has probability 0.828725843064 of being healthy\n",
      "Patient has probability 0.0713250383488 of having in situ cancer\n",
      "Patient has probability 0.0999491185875 of having invasive cancer\n"
     ]
    }
   ],
   "source": [
    "print \"For split probability of healthy and in-situ with a negative mammogram: \\n\"\n",
    "printBelief(cancerPOMDP.updateBeliefState(0, SPLIT, MNEG))"
   ]
  },
  {
   "cell_type": "code",
   "execution_count": 24,
   "metadata": {
    "collapsed": false,
    "scrolled": true
   },
   "outputs": [
    {
     "name": "stdout",
     "output_type": "stream",
     "text": [
      "For split probability of healthy and in-situ with a negative self detection: \n",
      "\n",
      "Patient has probability 0.890513510352 of being healthy\n",
      "Patient has probability 0.0455023979413 of having in situ cancer\n",
      "Patient has probability 0.0639840917066 of having invasive cancer\n"
     ]
    }
   ],
   "source": [
    "print \"For split probability of healthy and in-situ with a negative self detection: \\n\"\n",
    "printBelief(cancerPOMDP.updateBeliefState(0, SPLIT, SDNEG))"
   ]
  },
  {
   "cell_type": "markdown",
   "metadata": {},
   "source": [
    "Note that this is consistent with our original probabilities. We can also compare the changes in initial belief state if we were to have a positive self-detection:"
   ]
  },
  {
   "cell_type": "code",
   "execution_count": 25,
   "metadata": {
    "collapsed": false,
    "scrolled": true
   },
   "outputs": [
    {
     "name": "stdout",
     "output_type": "stream",
     "text": [
      "Belief state of a patient after recieving self-detection:\n",
      "\n",
      "Patient has probability 0.362541073384 of being healthy\n",
      "Patient has probability 0.266155531216 of having in situ cancer\n",
      "Patient has probability 0.3713033954 of having invasive cancer\n"
     ]
    }
   ],
   "source": [
    "print \"Belief state of a patient after recieving self-detection:\\n\"\n",
    "printBelief(cancerPOMDP.updateBeliefState(0, SPLIT, SDPOS))"
   ]
  },
  {
   "cell_type": "markdown",
   "metadata": {},
   "source": [
    "The positive self-detection means that our patient is much more likely to have cancer than if there were a negative self-detection!"
   ]
  },
  {
   "cell_type": "code",
   "execution_count": 26,
   "metadata": {
    "collapsed": false
   },
   "outputs": [],
   "source": [
    "PATIENT = [0.9949, 0.0016, 0.0035]\n",
    "AGE = 40"
   ]
  },
  {
   "cell_type": "code",
   "execution_count": 27,
   "metadata": {
    "collapsed": false
   },
   "outputs": [],
   "source": [
    "b = PATIENT\n",
    "history = {}\n",
    "for t in xrange(AGE - 40, cancerPOMDP.tmax):\n",
    "    decision = MAMMOGRAM_DICT[cancerPOMDP.chooseAction(b, t)]\n",
    "    if  decision == \"WAIT\":\n",
    "        b = cancerPOMDP.updateBeliefState(t, b, SDNEG)\n",
    "    else:\n",
    "        b = cancerPOMDP.updateBeliefState(t, b, MNEG)\n",
    "    history[(t/2 + 40) + 0.5*(t%2)] = {\"b\": b, \"d\": decision}"
   ]
  },
  {
   "cell_type": "code",
   "execution_count": null,
   "metadata": {
    "collapsed": false
   },
   "outputs": [
    {
     "data": {
      "text/plain": [
       "{40.0: {'b': array([ 0.99312687,  0.00154353,  0.0053296 ]),\n",
       "  'd': 'GET A MAMMOGRAM'},\n",
       " 40.5: {'b': array([ 0.99182989,  0.0015233 ,  0.00664681]),\n",
       "  'd': 'GET A MAMMOGRAM'},\n",
       " 41.0: {'b': array([ 0.99087878,  0.00151565,  0.00760557]),\n",
       "  'd': 'GET A MAMMOGRAM'},\n",
       " 41.5: {'b': array([ 0.99018033,  0.00151247,  0.0083072 ]),\n",
       "  'd': 'GET A MAMMOGRAM'},\n",
       " 42.0: {'b': array([ 0.989667  ,  0.00151097,  0.00882203]),\n",
       "  'd': 'GET A MAMMOGRAM'},\n",
       " 42.5: {'b': array([ 0.98928954,  0.00151015,  0.0092003 ]),\n",
       "  'd': 'GET A MAMMOGRAM'},\n",
       " 43.0: {'b': array([ 0.9890119 ,  0.00150965,  0.00947845]),\n",
       "  'd': 'GET A MAMMOGRAM'},\n",
       " 43.5: {'b': array([ 0.98880764,  0.00150931,  0.00968305]),\n",
       "  'd': 'GET A MAMMOGRAM'},\n",
       " 44.0: {'b': array([ 0.98865734,  0.00150907,  0.00983359]),\n",
       "  'd': 'GET A MAMMOGRAM'},\n",
       " 44.5: {'b': array([ 0.98854674,  0.0015089 ,  0.00994436]),\n",
       "  'd': 'GET A MAMMOGRAM'},\n",
       " 45.0: {'b': array([ 0.98846535,  0.00150877,  0.01002588]),\n",
       "  'd': 'GET A MAMMOGRAM'},\n",
       " 45.5: {'b': array([ 0.98840544,  0.00150868,  0.01008588]),\n",
       "  'd': 'GET A MAMMOGRAM'},\n",
       " 46.0: {'b': array([ 0.98836135,  0.00150861,  0.01013004]),\n",
       "  'd': 'GET A MAMMOGRAM'},\n",
       " 46.5: {'b': array([ 0.9883289 ,  0.00150856,  0.01016254]),\n",
       "  'd': 'GET A MAMMOGRAM'},\n",
       " 47.0: {'b': array([ 0.98830501,  0.00150853,  0.01018646]),\n",
       "  'd': 'GET A MAMMOGRAM'},\n",
       " 47.5: {'b': array([ 0.98828743,  0.0015085 ,  0.01020407]),\n",
       "  'd': 'GET A MAMMOGRAM'},\n",
       " 48.0: {'b': array([ 0.98827449,  0.00150848,  0.01021703]),\n",
       "  'd': 'GET A MAMMOGRAM'},\n",
       " 48.5: {'b': array([ 0.98826496,  0.00150846,  0.01022657]),\n",
       "  'd': 'GET A MAMMOGRAM'},\n",
       " 49.0: {'b': array([ 0.98825795,  0.00150845,  0.0102336 ]),\n",
       "  'd': 'GET A MAMMOGRAM'},\n",
       " 49.5: {'b': array([ 0.98825279,  0.00150845,  0.01023877]),\n",
       "  'd': 'GET A MAMMOGRAM'},\n",
       " 50.0: {'b': array([ 0.98828779,  0.0015062 ,  0.01020601]),\n",
       "  'd': 'GET A MAMMOGRAM'},\n",
       " 50.5: {'b': array([ 0.98831362,  0.00150546,  0.01018092]),\n",
       "  'd': 'GET A MAMMOGRAM'},\n",
       " 51.0: {'b': array([ 0.98833261,  0.00150523,  0.01016216]),\n",
       "  'd': 'GET A MAMMOGRAM'},\n",
       " 51.5: {'b': array([ 0.98834655,  0.00150516,  0.0101483 ]),\n",
       "  'd': 'GET A MAMMOGRAM'},\n",
       " 52.0: {'b': array([ 0.98835676,  0.00150514,  0.01013809]),\n",
       "  'd': 'GET A MAMMOGRAM'},\n",
       " 52.5: {'b': array([ 0.98836426,  0.00150514,  0.0101306 ]),\n",
       "  'd': 'GET A MAMMOGRAM'},\n",
       " 53.0: {'b': array([ 0.98836975,  0.00150515,  0.0101251 ]),\n",
       "  'd': 'GET A MAMMOGRAM'},\n",
       " 53.5: {'b': array([ 0.98837377,  0.00150515,  0.01012108]),\n",
       "  'd': 'GET A MAMMOGRAM'},\n",
       " 54.0: {'b': array([ 0.98837672,  0.00150516,  0.01011812]),\n",
       "  'd': 'GET A MAMMOGRAM'},\n",
       " 54.5: {'b': array([ 0.98837888,  0.00150516,  0.01011596]),\n",
       "  'd': 'GET A MAMMOGRAM'},\n",
       " 55.0: {'b': array([ 0.9873415 ,  0.00156565,  0.01109285]),\n",
       "  'd': 'GET A MAMMOGRAM'},\n",
       " 55.5: {'b': array([ 0.98648493,  0.00158786,  0.01192721]),\n",
       "  'd': 'GET A MAMMOGRAM'},\n",
       " 56.0: {'b': array([ 0.98577982,  0.00159568,  0.0126245 ]),\n",
       "  'd': 'GET A MAMMOGRAM'},\n",
       " 56.5: {'b': array([ 0.98520013,  0.00159814,  0.01320174]),\n",
       "  'd': 'GET A MAMMOGRAM'},\n",
       " 57.0: {'b': array([ 0.98472377,  0.00159866,  0.01367757]),\n",
       "  'd': 'GET A MAMMOGRAM'},\n",
       " 57.5: {'b': array([ 0.9843324 ,  0.00159851,  0.01406909]),\n",
       "  'd': 'GET A MAMMOGRAM'},\n",
       " 58.0: {'b': array([ 0.98401084,  0.00159817,  0.01439099]),\n",
       "  'd': 'GET A MAMMOGRAM'},\n",
       " 58.5: {'b': array([ 0.98374662,  0.00159782,  0.01465556]),\n",
       "  'd': 'GET A MAMMOGRAM'},\n",
       " 59.0: {'b': array([ 0.98352951,  0.00159749,  0.014873  ]),\n",
       "  'd': 'GET A MAMMOGRAM'},\n",
       " 59.5: {'b': array([ 0.98335109,  0.00159721,  0.0150517 ]),\n",
       "  'd': 'GET A MAMMOGRAM'},\n",
       " 60.0: {'b': array([ 0.98326507,  0.00159437,  0.01514056]),\n",
       "  'd': 'GET A MAMMOGRAM'},\n",
       " 60.5: {'b': array([ 0.98319492,  0.00159323,  0.01521185]),\n",
       "  'd': 'GET A MAMMOGRAM'},\n",
       " 61.0: {'b': array([ 0.9831376 ,  0.00159275,  0.01526965]),\n",
       "  'd': 'GET A MAMMOGRAM'},\n",
       " 61.5: {'b': array([ 0.98309072,  0.00159253,  0.01531675]),\n",
       "  'd': 'GET A MAMMOGRAM'},\n",
       " 62.0: {'b': array([ 0.98305237,  0.00159241,  0.01535521]),\n",
       "  'd': 'GET A MAMMOGRAM'},\n",
       " 62.5: {'b': array([ 0.98302099,  0.00159234,  0.01538666]),\n",
       "  'd': 'GET A MAMMOGRAM'},\n",
       " 63.0: {'b': array([ 0.98299532,  0.00159229,  0.01541239]),\n",
       "  'd': 'GET A MAMMOGRAM'},\n",
       " 63.5: {'b': array([ 0.9829743 ,  0.00159226,  0.01543344]),\n",
       "  'd': 'GET A MAMMOGRAM'},\n",
       " 64.0: {'b': array([ 0.98950728,  0.00131763,  0.0091751 ]), 'd': 'WAIT'},\n",
       " 64.5: {'b': array([ 0.9923793 ,  0.00126414,  0.00635656]), 'd': 'WAIT'},\n",
       " 65.0: {'b': array([ 0.99363206,  0.00125424,  0.0051137 ]), 'd': 'WAIT'},\n",
       " 65.5: {'b': array([ 0.9941766 ,  0.00125262,  0.00457077]), 'd': 'WAIT'},\n",
       " 66.0: {'b': array([ 0.99441294,  0.00125246,  0.0043346 ]), 'd': 'WAIT'},\n",
       " 66.5: {'b': array([ 0.99451544,  0.00125249,  0.00423207]), 'd': 'WAIT'},\n",
       " 67.0: {'b': array([ 0.99455988,  0.00125253,  0.00418759]), 'd': 'WAIT'},\n",
       " 67.5: {'b': array([ 0.99457915,  0.00125255,  0.0041683 ]), 'd': 'WAIT'},\n",
       " 68.0: {'b': array([ 0.9945875 ,  0.00125256,  0.00415994]), 'd': 'WAIT'},\n",
       " 68.5: {'b': array([ 0.99459112,  0.00125257,  0.00415632]), 'd': 'WAIT'},\n",
       " 69.0: {'b': array([ 0.99459269,  0.00125257,  0.00415475]), 'd': 'WAIT'},\n",
       " 69.5: {'b': array([ 0.99459337,  0.00125257,  0.00415407]), 'd': 'WAIT'},\n",
       " 70.0: {'b': array([ 0.99459366,  0.00125257,  0.00415377]), 'd': 'WAIT'},\n",
       " 70.5: {'b': array([ 0.99459379,  0.00125257,  0.00415364]), 'd': 'WAIT'},\n",
       " 71.0: {'b': array([ 0.99459385,  0.00125257,  0.00415359]), 'd': 'WAIT'},\n",
       " 71.5: {'b': array([ 0.99459387,  0.00125257,  0.00415356]), 'd': 'WAIT'},\n",
       " 72.0: {'b': array([ 0.99459388,  0.00125257,  0.00415355]), 'd': 'WAIT'},\n",
       " 72.5: {'b': array([ 0.99459388,  0.00125257,  0.00415355]), 'd': 'WAIT'},\n",
       " 73.0: {'b': array([ 0.99459389,  0.00125257,  0.00415355]), 'd': 'WAIT'},\n",
       " 73.5: {'b': array([ 0.99459389,  0.00125257,  0.00415354]), 'd': 'WAIT'},\n",
       " 74.0: {'b': array([ 0.99459389,  0.00125257,  0.00415354]), 'd': 'WAIT'},\n",
       " 74.5: {'b': array([ 0.99459389,  0.00125257,  0.00415354]), 'd': 'WAIT'},\n",
       " 75.0: {'b': array([ 0.99459389,  0.00125257,  0.00415354]), 'd': 'WAIT'},\n",
       " 75.5: {'b': array([ 0.99459389,  0.00125257,  0.00415354]), 'd': 'WAIT'},\n",
       " 76.0: {'b': array([ 0.99459389,  0.00125257,  0.00415354]), 'd': 'WAIT'},\n",
       " 76.5: {'b': array([ 0.99459389,  0.00125257,  0.00415354]), 'd': 'WAIT'},\n",
       " 77.0: {'b': array([ 0.99459389,  0.00125257,  0.00415354]), 'd': 'WAIT'},\n",
       " 77.5: {'b': array([ 0.99459389,  0.00125257,  0.00415354]), 'd': 'WAIT'},\n",
       " 78.0: {'b': array([ 0.99459389,  0.00125257,  0.00415354]), 'd': 'WAIT'},\n",
       " 78.5: {'b': array([ 0.99459389,  0.00125257,  0.00415354]), 'd': 'WAIT'},\n",
       " 79.0: {'b': array([ 0.99459389,  0.00125257,  0.00415354]), 'd': 'WAIT'},\n",
       " 79.5: {'b': array([ 0.99459389,  0.00125257,  0.00415354]), 'd': 'WAIT'}}"
      ]
     },
     "execution_count": 28,
     "metadata": {},
     "output_type": "execute_result"
    }
   ],
   "source": [
    "history"
   ]
  },
  {
   "cell_type": "markdown",
   "metadata": {},
   "source": [
    "Overall, our results are intuitive and consistent! Feel free to experiment with different initial ages and belief states."
   ]
  },
  {
   "cell_type": "markdown",
   "metadata": {},
   "source": [
    "## 4. Re-solving the POMDP"
   ]
  },
  {
   "cell_type": "markdown",
   "metadata": {},
   "source": [
    "If you would like to re-solve the POMDP, and have installed everything in requirements.txt, you should be able to run the following command to solve the POMDP (find the alpha vectors). In our write-up, we describe the various LP solvers we used to optimize. Since CPLEX is a commercial solver and cvxopt requires extra steps for installation, you will want to use pulp here (which is slower, but works). \n",
    "\n",
    "\n",
    "This command will generate the alpha vectors, and you will see a series of output including: \n",
    "\n",
    "1. Which LP solver you're using\n",
    "2. The total number of alpha vectors at each timestep \n",
    "3. The total number of alpha vectors after Eagle's reduction \n",
    "4. The total number of alpha vectors after solving the Linear Program\n",
    "5. Which time step you're on \n",
    "6. The amount of time it took for each step to run\n",
    "\n",
    "If you would like to change the default number of timesteps, whether or not you write to a file, etc., please feel free to look through the code in model.py and monohan.py and modify settings as you prefer."
   ]
  },
  {
   "cell_type": "code",
   "execution_count": null,
   "metadata": {
    "collapsed": false,
    "scrolled": true
   },
   "outputs": [
    {
     "name": "stdout",
     "output_type": "stream",
     "text": [
      "Using LP Solver pulp \n",
      "\n",
      "Total alpha after enumeration: 2, time: 0.00\n",
      "Total alpha after Eagle: 1, time: 0.00\n",
      "Total alpha after LP: 1, time: 0.00\n",
      "\tLP construct time:  0\n",
      "\tLP solve time:  0\n",
      "Completed time step  19 \n",
      "\n",
      "Total alpha after enumeration: 2, time: 0.00\n",
      "Total alpha after Eagle: 2, time: 0.00\n",
      "Total alpha after LP: 2, time: 0.09\n",
      "\tLP construct time:  0.00261497497559\n",
      "\tLP solve time:  0.0836968421936\n",
      "Completed time step  18 \n",
      "\n",
      "Total alpha after enumeration: 6, time: 0.00\n",
      "Total alpha after Eagle: 5, time: 0.00\n",
      "Total alpha after LP: 4, time: 0.07\n",
      "\tLP construct time:  0.00864505767822\n",
      "\tLP solve time:  0.0619180202484\n",
      "Completed time step  17 \n",
      "\n",
      "Total alpha after enumeration: 20, time: 0.00\n",
      "Total alpha after Eagle: 11, time: 0.00\n",
      "Total alpha after LP: 8, time: 0.19\n",
      "\tLP construct time:  0.0432288646698\n",
      "\tLP solve time:  0.146596670151\n",
      "Completed time step  16 \n",
      "\n",
      "Total alpha after enumeration: 72, time: 0.00\n",
      "Total alpha after Eagle: 32, time: 0.00\n",
      "Total alpha after LP: 13, time: 0.74\n",
      "\tLP construct time:  0.29118347168\n",
      "\tLP solve time:  0.44110751152\n",
      "Completed time step  15 \n",
      "\n",
      "Total alpha after enumeration: 182, time: 0.01\n",
      "Total alpha after Eagle: 70, time: 0.00\n",
      "Total alpha after LP: 27, time: 1.98\n",
      "\tLP construct time:  0.948833703995\n",
      "\tLP solve time:  1.01730132103\n",
      "Completed time step  14 \n",
      "\n",
      "Total alpha after enumeration: 756, time: 0.04\n",
      "Total alpha after Eagle: 142, time: 0.01\n",
      "Total alpha after LP: 45, time: 6.12\n",
      "\tLP construct time:  3.74212884903\n",
      "\tLP solve time:  2.35059285164\n",
      "Completed time step  13 \n",
      "\n",
      "Total alpha after enumeration: 2070, time: 0.09\n",
      "Total alpha after Eagle: 288, time: 0.06\n",
      "Total alpha after LP: 64, time: 22.91\n",
      "\tLP construct time:  16.1494569778\n",
      "\tLP solve time:  6.67684864998\n",
      "Completed time step  12 \n",
      "\n",
      "Total alpha after enumeration: 4160, time: 0.15\n",
      "Total alpha after Eagle: 432, time: 0.18\n",
      "Total alpha after LP: 84, time: 48.19\n",
      "\tLP construct time:  35.2437200546\n",
      "\tLP solve time:  12.7870056629\n",
      "Completed time step  11 \n",
      "\n",
      "Total alpha after enumeration: 7140, time: 0.26\n",
      "Total alpha after Eagle: 686, time: 0.39\n",
      "Total alpha after LP: 108, time: 95.50\n",
      "\tLP construct time:  71.935287714\n",
      "\tLP solve time:  23.2861113548\n",
      "Completed time step  10 \n",
      "\n",
      "Total alpha after enumeration: 11772, time: 0.64\n",
      "Total alpha after Eagle: 975, time: 1.31\n",
      "Total alpha after LP: 141, time: 195.09\n",
      "\tLP construct time:  152.081238747\n",
      "\tLP solve time:  42.4419209957\n",
      "Completed time step  9 \n",
      "\n",
      "Total alpha after enumeration: 20022, time: 0.66\n",
      "Total alpha after Eagle: 1714, time: 2.62\n"
     ]
    }
   ],
   "source": [
    "newPOMDP = MonahanSolve(tmax = 20).solve()"
   ]
  }
 ],
 "metadata": {
  "anaconda-cloud": {},
  "kernelspec": {
   "display_name": "Python 2",
   "language": "python",
   "name": "python2"
  },
  "language_info": {
   "codemirror_mode": {
    "name": "ipython",
    "version": 2
   },
   "file_extension": ".py",
   "mimetype": "text/x-python",
   "name": "python",
   "nbconvert_exporter": "python",
   "pygments_lexer": "ipython2",
   "version": "2.7.10"
  }
 },
 "nbformat": 4,
 "nbformat_minor": 0
}
