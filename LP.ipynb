{
 "cells": [
  {
   "cell_type": "code",
   "execution_count": 1,
   "metadata": {
    "collapsed": true
   },
   "outputs": [],
   "source": [
    "import numpy as np\n",
    "import pulp"
   ]
  },
  {
   "cell_type": "code",
   "execution_count": 2,
   "metadata": {
    "collapsed": false
   },
   "outputs": [],
   "source": [
    "alpha = np.array([3, 4, 5])\n",
    "otherAlpha = [np.array([1, 1, 1]), np.array([1, 1, 1]), np.array([ 3,  4, 5])]"
   ]
  },
  {
   "cell_type": "code",
   "execution_count": 3,
   "metadata": {
    "collapsed": false
   },
   "outputs": [],
   "source": [
    "def pruneLP(alpha, otherAlpha, printOut = False):\n",
    "    # problem is a maximization problem\n",
    "    prob = pulp.LpProblem(\"Reduce\", pulp.LpMaximize)\n",
    "    # set up arbitrary probability distribution over state pi\n",
    "    pi = np.array([pulp.LpVariable(\"pi\"+str(s), lowBound=0) for s in range(3)])\n",
    "    # set up sigma\n",
    "    sigma = pulp.LpVariable(\"sigma\", lowBound=None, upBound=None)\n",
    "    # Objective: max sigma\n",
    "    prob += sigma, \"Maximize sigma\"\n",
    "    # The pi must sum to 1\n",
    "    prob += pulp.lpSum(pi) == 1, \"ProbDistribution\"\n",
    "    # Check if this alpha vector does better than any other alpha vector\n",
    "    for a in otherAlpha:\n",
    "        prob += np.dot(alpha - a, pi) - sigma >= 0, \"\"\n",
    "    prob.solve()\n",
    "    obj = pulp.value(prob.objective)\n",
    "    if printOut:\n",
    "        print \"Objective (sigma): \", obj\n",
    "        print \"Pi: \", [p.value() for p in pi]\n",
    "    # return 0 if should not prune, 1 if should prune\n",
    "    return obj <= 0"
   ]
  },
  {
   "cell_type": "code",
   "execution_count": 4,
   "metadata": {
    "collapsed": false
   },
   "outputs": [
    {
     "data": {
      "text/plain": [
       "True"
      ]
     },
     "execution_count": 4,
     "metadata": {},
     "output_type": "execute_result"
    }
   ],
   "source": [
    "pruneLP(alpha, otherAlpha)"
   ]
  },
  {
   "cell_type": "code",
   "execution_count": null,
   "metadata": {
    "collapsed": true
   },
   "outputs": [],
   "source": []
  }
 ],
 "metadata": {
  "kernelspec": {
   "display_name": "Python 2",
   "language": "python",
   "name": "python2"
  },
  "language_info": {
   "codemirror_mode": {
    "name": "ipython",
    "version": 2
   },
   "file_extension": ".py",
   "mimetype": "text/x-python",
   "name": "python",
   "nbconvert_exporter": "python",
   "pygments_lexer": "ipython2",
   "version": "2.7.12"
  }
 },
 "nbformat": 4,
 "nbformat_minor": 0
}
